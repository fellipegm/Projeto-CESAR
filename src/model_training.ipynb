{
 "cells": [
  {
   "cell_type": "code",
   "execution_count": 1,
   "metadata": {},
   "outputs": [
    {
     "data": {
      "text/plain": [
       "'/media/fellipegm/Data/Drive/07 Projetos/Projeto-CESAR'"
      ]
     },
     "execution_count": 1,
     "metadata": {},
     "output_type": "execute_result"
    }
   ],
   "source": [
    "# Pacotes iniciais\n",
    "import pandas as pd\n",
    "import seaborn as sns\n",
    "import matplotlib.pyplot as plt\n",
    "import numpy as np\n",
    "\n",
    "plt.rcParams['figure.figsize']=(10,10)\n",
    "\n",
    "import os\n",
    "os.chdir('..')\n",
    "os.getcwd()"
   ]
  },
  {
   "cell_type": "markdown",
   "metadata": {},
   "source": [
    "### Load data, clean and perform the PCA"
   ]
  },
  {
   "cell_type": "code",
   "execution_count": 2,
   "metadata": {},
   "outputs": [],
   "source": [
    "from functions.data_loading import DataLoad\n",
    "\n",
    "data = DataLoad()"
   ]
  },
  {
   "cell_type": "markdown",
   "metadata": {},
   "source": [
    "### Test of the most simple model (Linear Regression), using the PCA variables"
   ]
  },
  {
   "cell_type": "code",
   "execution_count": 3,
   "metadata": {},
   "outputs": [],
   "source": [
    "from sklearn.linear_model import LinearRegression\n",
    "from functions.metrics import Metrics\n",
    "\n",
    "linreg = dict()\n",
    "y_pred_linreg = dict()\n",
    "stats_linreg = dict()\n",
    "\n",
    "variables = ['Tmax', 'Tmin']\n",
    "\n",
    "for variable in variables:\n",
    "    linreg[variable] = dict()\n",
    "    y_pred_linreg[variable] = dict()\n",
    "    stats_linreg[variable] = dict()\n",
    "    for i in range(1, 26):\n",
    "        linreg[variable][i] = LinearRegression()\n",
    "        linreg[variable][i].fit(data.df_train[i], data.y_train[i][f'Next_{variable}'])\n",
    "        y_pred_linreg[variable][i] = linreg[variable][i].predict(data.df_test[i])\n",
    "        interm = Metrics(data.y_test[i][f'Next_{variable}'], y_pred_linreg[variable][i])\n",
    "        stats_linreg[variable][i] = interm.fit()"
   ]
  },
  {
   "cell_type": "markdown",
   "metadata": {},
   "source": [
    "### Check the same scores for the LDAPS Tmax and Tmin variables\n",
    "\n",
    "The same scores are calculated for the LDAPS model Tmax and Tmin air temperatures. Need to check if something is improving."
   ]
  },
  {
   "cell_type": "code",
   "execution_count": 9,
   "metadata": {},
   "outputs": [],
   "source": [
    "stats_LDAPS = dict()\n",
    "\n",
    "for variable in variables:\n",
    "    stats_LDAPS[variable] = dict()\n",
    "    for i in range(1, 26):\n",
    "        interm = Metrics(data.y_test[i][f'Next_{variable}'], data.df_test[i][f'LDAPS_{variable}_lapse'])\n",
    "        stats_LDAPS[variable][i] = interm.fit()"
   ]
  },
  {
   "cell_type": "markdown",
   "metadata": {},
   "source": [
    "### Comparison of the residual mean and R^2"
   ]
  },
  {
   "cell_type": "code",
   "execution_count": 12,
   "metadata": {},
   "outputs": [],
   "source": [
    "# This code is ugly af and can be improved greatly using dict or list. Too tired and with running out of time to improve it now.\n",
    "# I feel that even the csv comparison file could be much better.\n",
    "\n",
    "header = 'Index'\n",
    "for i in range(1, 26): header += f',Station {i}'\n",
    "header += '\\n'\n",
    "\n",
    "for variable in variables:\n",
    "    mean = 'residual mean Linear Regression'\n",
    "    mean_LDAPS = 'residual mean LDAPS'\n",
    "    r2 = 'R2 Linear Regression'\n",
    "    r2_LDAPS = 'R2 LDAPS'\n",
    "    improv_r2 = 'improvement R2'\n",
    "    for i in range(1, 26):\n",
    "        mean += ',{:.2f}'.format(stats_linreg[variable][i]['residual_mean'])\n",
    "        mean_LDAPS += ',{:.2f}'.format(stats_LDAPS[variable][i]['residual_mean'])\n",
    "        r2 += ',{:.2f}'.format(stats_linreg[variable][i]['r2'])\n",
    "        r2_LDAPS += ',{:.2f}'.format(stats_LDAPS[variable][i]['r2'])\n",
    "        improv_r2 += ',{:.2f}'.format((stats_linreg[variable][i]['r2'] - stats_LDAPS[variable][i]['r2']) / stats_LDAPS[variable][i]['r2'])\n",
    "    \n",
    "    mean += '\\n'\n",
    "    mean_LDAPS += '\\n'\n",
    "    r2 += '\\n'\n",
    "    r2_LDAPS += '\\n'\n",
    "    improv_r2 += '\\n'\n",
    "\n",
    "    with open(f'./output/linreg_comparison_{variable}.csv', 'w') as outfile:\n",
    "        outfile.write(header + mean + mean_LDAPS + r2 + r2_LDAPS + improv_r2)\n",
    "\n",
    "\n"
   ]
  },
  {
   "cell_type": "code",
   "execution_count": null,
   "metadata": {},
   "outputs": [],
   "source": [
    "stats = ['r2', 'residual_mean']\n",
    "\n",
    "for stat in stats:\n",
    "    for variable in variables:\n",
    "        plt.figure()\n",
    "        plt.title(f'{variable} - {stat}')\n",
    "        r2 = [stats_linreg[variable][i][stat] for i in range(1, 26)]\n",
    "        r2_LDAPS = [stats_LDAPS[variable][i][stat] for i in range(1, 26)]\n",
    "            "
   ]
  }
 ],
 "metadata": {
  "interpreter": {
   "hash": "2a80d7127ffa6512538d70c4595fb49d1835f0ee50f0d97ab3d8feaa2462784c"
  },
  "kernelspec": {
   "display_name": "Python 3.8.10 64-bit ('.venv': venv)",
   "language": "python",
   "name": "python3"
  },
  "language_info": {
   "codemirror_mode": {
    "name": "ipython",
    "version": 3
   },
   "file_extension": ".py",
   "mimetype": "text/x-python",
   "name": "python",
   "nbconvert_exporter": "python",
   "pygments_lexer": "ipython3",
   "version": "3.8.10"
  },
  "orig_nbformat": 4
 },
 "nbformat": 4,
 "nbformat_minor": 2
}
